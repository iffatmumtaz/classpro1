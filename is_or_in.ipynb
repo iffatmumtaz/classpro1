{
  "nbformat": 4,
  "nbformat_minor": 0,
  "metadata": {
    "colab": {
      "provenance": [],
      "authorship_tag": "ABX9TyMQhwGopPBW2ybO13Us42fG",
      "include_colab_link": true
    },
    "kernelspec": {
      "name": "python3",
      "display_name": "Python 3"
    },
    "language_info": {
      "name": "python"
    }
  },
  "cells": [
    {
      "cell_type": "markdown",
      "metadata": {
        "id": "view-in-github",
        "colab_type": "text"
      },
      "source": [
        "<a href=\"https://colab.research.google.com/github/iffatmumtaz/classpro1/blob/main/is_or_in.ipynb\" target=\"_parent\"><img src=\"https://colab.research.google.com/assets/colab-badge.svg\" alt=\"Open In Colab\"/></a>"
      ]
    },
    {
      "cell_type": "markdown",
      "source": [
        "\"is\" ka istemal hum check karne ke liye karte hain k 2 cheezain aik hi object hain ya nahi.Ye identity check karta hai, ke dono ka address ya ID same hai ya nahi."
      ],
      "metadata": {
        "id": "rZTvLzbIjA_g"
      }
    },
    {
      "cell_type": "code",
      "source": [
        "a = [1, 2, 3]\n",
        "b = a\n",
        "\n",
        "print(a is b)  # True {qk b kon a k brabr kaha ja rha h is liy true aay ga}\n"
      ],
      "metadata": {
        "colab": {
          "base_uri": "https://localhost:8080/"
        },
        "id": "vsUHJxoMjSrD",
        "outputId": "946f3506-9d21-4b2f-882c-bcb807b0f8b5"
      },
      "execution_count": 3,
      "outputs": [
        {
          "output_type": "stream",
          "name": "stdout",
          "text": [
            "True\n"
          ]
        }
      ]
    },
    {
      "cell_type": "markdown",
      "source": [
        "Lekin agar hm 2 alag lists bana len jinka content same ho, tab bhi ye False dega q ke wo alag objects hain. object alg hngy to false dega..list ek hogi to true aay ga"
      ],
      "metadata": {
        "id": "7tDnCKdBjuql"
      }
    },
    {
      "cell_type": "code",
      "source": [
        "a = [1, 2, 3]\n",
        "b = [1, 2, 3]\n",
        "\n",
        "print(a is b)"
      ],
      "metadata": {
        "colab": {
          "base_uri": "https://localhost:8080/"
        },
        "id": "PHIUCTZXkMyC",
        "outputId": "7fddd87c-874a-4eb9-8808-00dc96543131"
      },
      "execution_count": 4,
      "outputs": [
        {
          "output_type": "stream",
          "name": "stdout",
          "text": [
            "False\n"
          ]
        }
      ]
    },
    {
      "cell_type": "markdown",
      "source": [
        "\"In\" ka istemal check karne ke liye hota hai k koi cheez kisi container (list, string, set, dict, etc.) ke andar mojood hai ya nahi.\n",
        "\n",
        "Ye membership check karta hai."
      ],
      "metadata": {
        "id": "Y9jFpj3gkVkL"
      }
    },
    {
      "cell_type": "code",
      "source": [
        "list1 = [1, 2, 3, 4]\n",
        "\n",
        "print(3 in list1)  # True (q k 3 list k andar hai)\n",
        "print(5 in list1)  # false(q k 5 list k bahr h)"
      ],
      "metadata": {
        "colab": {
          "base_uri": "https://localhost:8080/"
        },
        "id": "icvZXVI8kdmf",
        "outputId": "06c60806-a56d-403d-adec-a8b610c3c9e6"
      },
      "execution_count": 5,
      "outputs": [
        {
          "output_type": "stream",
          "name": "stdout",
          "text": [
            "True\n",
            "False\n"
          ]
        }
      ]
    }
  ]
}